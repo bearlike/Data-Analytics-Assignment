{
  "nbformat": 4,
  "nbformat_minor": 0,
  "metadata": {
    "colab": {
      "name": "Centigrade to Fahrenheit",
      "provenance": [],
      "collapsed_sections": [],
      "include_colab_link": true
    },
    "kernelspec": {
      "name": "python3",
      "display_name": "Python 3"
    }
  },
  "cells": [
    {
      "cell_type": "markdown",
      "metadata": {
        "id": "5zcHZ_zsm7Yq",
        "colab_type": "text"
      },
      "source": [
        "![header_krishna](https://imgur.com/6kWCfPG.png)"
      ]
    },
    {
      "cell_type": "markdown",
      "metadata": {
        "id": "view-in-github",
        "colab_type": "text"
      },
      "source": [
        "<a href=\"https://colab.research.google.com/github/K-Kraken/Data-Analytics-Assignment/blob/master/Centigrade_to_Fahrenheit.ipynb\" target=\"_parent\"><img src=\"https://colab.research.google.com/assets/colab-badge.svg\" alt=\"Open In Colab\"/></a>"
      ]
    },
    {
      "cell_type": "markdown",
      "metadata": {
        "id": "zJD0v6FsORJF",
        "colab_type": "text"
      },
      "source": [
        "# Centigrade to Fahrenheit: Linear Regression"
      ]
    },
    {
      "cell_type": "code",
      "metadata": {
        "id": "Ix4ALxitNzCN",
        "colab_type": "code",
        "colab": {}
      },
      "source": [
        "import numpy as np\n",
        "import matplotlib.pyplot as plt\n",
        "import sklearn"
      ],
      "execution_count": 52,
      "outputs": []
    },
    {
      "cell_type": "markdown",
      "metadata": {
        "id": "n0pjw9-nV3f7",
        "colab_type": "text"
      },
      "source": [
        "## Data Entry"
      ]
    },
    {
      "cell_type": "code",
      "metadata": {
        "id": "gUVZmGUDOdCJ",
        "colab_type": "code",
        "colab": {}
      },
      "source": [
        "cities      = [[\"Houston\"], [\"Chicago\"], [\"Minneapolis\"], [\"Miami\"], [\"Phoenix\"]]\n",
        "fahrenheit   = [[54.0], [37.0], [31.0], [78.0], [70.0]]\n",
        "celsius  = [[12.22], [2.78], [-0.56], [25.56], [21.11]]"
      ],
      "execution_count": 53,
      "outputs": []
    },
    {
      "cell_type": "markdown",
      "metadata": {
        "id": "XLpqeTOuWEUR",
        "colab_type": "text"
      },
      "source": [
        "## Visualizing Actual Values "
      ]
    },
    {
      "cell_type": "code",
      "metadata": {
        "id": "cq5u-rEBOh27",
        "colab_type": "code",
        "colab": {
          "base_uri": "https://localhost:8080/",
          "height": 295
        },
        "outputId": "720e2d52-723a-4c79-b1aa-0ac15d1194dd"
      },
      "source": [
        "plt.scatter(celsius, fahrenheit, c='red', label='actual')\n",
        "plt.xlabel('celsius')\n",
        "plt.ylabel('fahrenheit')\n",
        "plt.legend()\n",
        "plt.grid(False)\n",
        "plt.title('Data Feed')\n",
        "plt.show()"
      ],
      "execution_count": 54,
      "outputs": [
        {
          "output_type": "display_data",
          "data": {
            "image/png": "[encoded data removed]",
            "text/plain": [
              "<Figure size 432x288 with 1 Axes>"
            ]
          },
          "metadata": {
            "tags": [],
            "needs_background": "light"
          }
        }
      ]
    },
    {
      "cell_type": "markdown",
      "metadata": {
        "id": "f9EtYcasSncn",
        "colab_type": "text"
      },
      "source": [
        "## Build the Linear Model"
      ]
    },
    {
      "cell_type": "code",
      "metadata": {
        "id": "wTg_XT-iRYUW",
        "colab_type": "code",
        "colab": {
          "base_uri": "https://localhost:8080/",
          "height": 34
        },
        "outputId": "74b667ee-04ef-432f-d6d1-70fcd81dd978"
      },
      "source": [
        "lr = linear_model.LinearRegression()\n",
        "lr.fit(celsius,fahrenheit)"
      ],
      "execution_count": 55,
      "outputs": [
        {
          "output_type": "execute_result",
          "data": {
            "text/plain": [
              "LinearRegression(copy_X=True, fit_intercept=True, n_jobs=None, normalize=False)"
            ]
          },
          "metadata": {
            "tags": []
          },
          "execution_count": 55
        }
      ]
    },
    {
      "cell_type": "markdown",
      "metadata": {
        "id": "hQBGQgV1TtmJ",
        "colab_type": "text"
      },
      "source": [
        "## Testing and Visualization"
      ]
    },
    {
      "cell_type": "code",
      "metadata": {
        "id": "mFVjeSylTVck",
        "colab_type": "code",
        "colab": {}
      },
      "source": [
        "celsius_test = [[-50],[-30],[10],[20],[50],[70]]\n",
        "fahrenheit_test = lr.predict(celsius_test)"
      ],
      "execution_count": 56,
      "outputs": []
    },
    {
      "cell_type": "code",
      "metadata": {
        "id": "CgHBfTEjTcUa",
        "colab_type": "code",
        "colab": {
          "base_uri": "https://localhost:8080/",
          "height": 295
        },
        "outputId": "bfdd2b35-ca23-463b-b3d7-9b5b2d8c99d3"
      },
      "source": [
        "plt.scatter(celsius,fahrenheit, c='red', label='Actual')\n",
        "plt.scatter(celsius_test,fahrenheit_test, c='orange', label='Predicted')\n",
        "plt.xlabel('celsius')\n",
        "plt.ylabel('fahrenheit')\n",
        "plt.legend()\n",
        "plt.grid(False)\n",
        "plt.title('Estimated vs Real Data')\n",
        "plt.show()"
      ],
      "execution_count": 57,
      "outputs": [
        {
          "output_type": "display_data",
          "data": {
            "image/png": "[encoded data removed]",
            "text/plain": [
              "<Figure size 432x288 with 1 Axes>"
            ]
          },
          "metadata": {
            "tags": [],
            "needs_background": "light"
          }
        }
      ]
    },
    {
      "cell_type": "markdown",
      "metadata": {
        "id": "Zm3J7nIzgAMc",
        "colab_type": "text"
      },
      "source": [
        "**Scatter Plot for Actual and Predicted Values**"
      ]
    },
    {
      "cell_type": "markdown",
      "metadata": {
        "id": "o_qzzu0RUMTf",
        "colab_type": "text"
      },
      "source": [
        "## Verifying our model’s parameter"
      ]
    },
    {
      "cell_type": "code",
      "metadata": {
        "id": "4DmbXom6UK6Z",
        "colab_type": "code",
        "colab": {
          "base_uri": "https://localhost:8080/",
          "height": 34
        },
        "outputId": "6d148f4c-2299-4ae0-8499-54a06270ec39"
      },
      "source": [
        "m = lr.coef_\n",
        "c = lr.intercept_\n",
        "b = lr.predict([[0]])\n",
        "print('m:',m,'c:',c,'b:',b)"
      ],
      "execution_count": 58,
      "outputs": [
        {
          "output_type": "stream",
          "text": [
            "m: [[1.79969883]] c: [32.00408088] b: [[32.00408088]]\n"
          ],
          "name": "stdout"
        }
      ]
    },
    {
      "cell_type": "markdown",
      "metadata": {
        "id": "Wl2d4RSfdgtJ",
        "colab_type": "text"
      },
      "source": [
        "## Values obtained using F = 1.8C + 32"
      ]
    },
    {
      "cell_type": "code",
      "metadata": {
        "id": "Fs1tsuUFafef",
        "colab_type": "code",
        "colab": {}
      },
      "source": [
        "x_range = np.arange(-75,100)\n",
        "f = x_range*1.8 + 32"
      ],
      "execution_count": 59,
      "outputs": []
    },
    {
      "cell_type": "markdown",
      "metadata": {
        "id": "Prx_PAcrd5f-",
        "colab_type": "text"
      },
      "source": [
        "## Visualizing All of Them"
      ]
    },
    {
      "cell_type": "code",
      "metadata": {
        "id": "JIgiyk0Sd_WY",
        "colab_type": "code",
        "colab": {
          "base_uri": "https://localhost:8080/",
          "height": 295
        },
        "outputId": "eef8a34b-499e-4f69-b091-40e60c179fc9"
      },
      "source": [
        "plt.plot(x_range,f,c='blue', label='Equation')\n",
        "plt.scatter(celsius,fahrenheit, c='red', label='Actual')\n",
        "plt.scatter(celsius_test,fahrenheit_test, c='orange', label='Predicted')\n",
        "plt.xlabel('celsius')\n",
        "plt.ylabel('fahrenheit')\n",
        "plt.legend()\n",
        "plt.grid(False)\n",
        "plt.title('Estimated and Actual Data vs Equation')\n",
        "plt.show()"
      ],
      "execution_count": 50,
      "outputs": [
        {
          "output_type": "display_data",
          "data": {
            "image/png": "[encoded data removed]",
            "text/plain": [
              "<Figure size 432x288 with 1 Axes>"
            ]
          },
          "metadata": {
            "tags": [],
            "needs_background": "light"
          }
        }
      ]
    },
    {
      "cell_type": "markdown",
      "metadata": {
        "id": "etmNAsEsfviI",
        "colab_type": "text"
      },
      "source": [
        "**From the above we can say the transformation is linear.**"
      ]
    },
    {
      "cell_type": "markdown",
      "metadata": {
        "id": "pt2hX8LieleK",
        "colab_type": "text"
      },
      "source": [
        "## Model Accuracy"
      ]
    },
    {
      "cell_type": "code",
      "metadata": {
        "id": "jVda6pBQenSF",
        "colab_type": "code",
        "colab": {
          "base_uri": "https://localhost:8080/",
          "height": 52
        },
        "outputId": "d808419c-4130-42a9-e7a9-142fd89401a5"
      },
      "source": [
        "acc_test = lr.score(celsius_test,fahrenheit_test)\n",
        "acc_train = lr.score(celsius,fahrenheit)\n",
        "print('accuracy train:', acc_train)\n",
        "print('accuracy test:', acc_test)"
      ],
      "execution_count": 60,
      "outputs": [
        {
          "output_type": "stream",
          "text": [
            "accuracy train: 0.9999999290948024\n",
            "accuracy test: 1.0\n\n"
          ],
          "name": "stdout"
        }
      ]
    }
  ]
}
