{
  "nbformat": 4,
  "nbformat_minor": 0,
  "metadata": {
    "colab": {
      "name": "Galton - Predict Best Fit.ipynb",
      "provenance": [],
      "collapsed_sections": [],
      "authorship_tag": "ABX9TyMTlB1QSQevvvRcdQYMZZWh",
      "include_colab_link": true
    },
    "kernelspec": {
      "name": "python3",
      "display_name": "Python 3"
    }
  },
  "cells": [
    {
      "cell_type": "markdown",
      "metadata": {
        "id": "ObqAAAkF-Eev",
        "colab_type": "text"
      },
      "source": [
        "![header_krishna](https://imgur.com/6kWCfPG.png)"
      ]
    },
    {
      "cell_type": "markdown",
      "metadata": {
        "id": "view-in-github",
        "colab_type": "text"
      },
      "source": [
        "<a href=\"https://colab.research.google.com/github/K-Kraken/Data-Analytics-Assignment/blob/master/Galton_Predict_Best_Fit.ipynb\" target=\"_parent\"><img src=\"https://colab.research.google.com/assets/colab-badge.svg\" alt=\"Open In Colab\"/></a>"
      ]
    },
    {
      "cell_type": "markdown",
      "metadata": {
        "id": "womdZ1WR-UhU",
        "colab_type": "text"
      },
      "source": [
        "# Predict the best fit for Galton's data on the heights of parents and their children"
      ]
    },
    {
      "cell_type": "code",
      "metadata": {
        "id": "yV8tatbR5-pE",
        "colab_type": "code",
        "colab": {}
      },
      "source": [
        "import pandas as pd\n",
        "import numpy as np\n",
        "import matplotlib.pyplot as plt\n",
        "from sklearn.linear_model import LinearRegression\n",
        "from sklearn.metrics import r2_score\n",
        "import statsmodels.api as sm"
      ],
      "execution_count": null,
      "outputs": []
    },
    {
      "cell_type": "markdown",
      "metadata": {
        "id": "zOZeDRLS-tGY",
        "colab_type": "text"
      },
      "source": [
        "## Read the data"
      ]
    },
    {
      "cell_type": "code",
      "metadata": {
        "id": "G9zdRGpS7azB",
        "colab_type": "code",
        "colab": {
          "base_uri": "https://localhost:8080/",
          "height": 198
        },
        "outputId": "6a7746a3-2b6c-45fe-85f2-f9bfc5370706"
      },
      "source": [
        "data = pd.read_csv(\"Galton.csv\")\n",
        "data.head()"
      ],
      "execution_count": null,
      "outputs": [
        {
          "output_type": "execute_result",
          "data": {
            "text/html": [
              "<div>\n",
              "<style scoped>\n",
              "    .dataframe tbody tr th:only-of-type {\n",
              "        vertical-align: middle;\n",
              "    }\n",
              "\n",
              "    .dataframe tbody tr th {\n",
              "        vertical-align: top;\n",
              "    }\n",
              "\n",
              "    .dataframe thead th {\n",
              "        text-align: right;\n",
              "    }\n",
              "</style>\n",
              "<table border=\"1\" class=\"dataframe\">\n",
              "  <thead>\n",
              "    <tr style=\"text-align: right;\">\n",
              "      <th></th>\n",
              "      <th>Unnamed: 0</th>\n",
              "      <th>parent</th>\n",
              "      <th>child</th>\n",
              "    </tr>\n",
              "  </thead>\n",
              "  <tbody>\n",
              "    <tr>\n",
              "      <th>0</th>\n",
              "      <td>1</td>\n",
              "      <td>70.5</td>\n",
              "      <td>61.7</td>\n",
              "    </tr>\n",
              "    <tr>\n",
              "      <th>1</th>\n",
              "      <td>2</td>\n",
              "      <td>68.5</td>\n",
              "      <td>61.7</td>\n",
              "    </tr>\n",
              "    <tr>\n",
              "      <th>2</th>\n",
              "      <td>3</td>\n",
              "      <td>65.5</td>\n",
              "      <td>61.7</td>\n",
              "    </tr>\n",
              "    <tr>\n",
              "      <th>3</th>\n",
              "      <td>4</td>\n",
              "      <td>64.5</td>\n",
              "      <td>61.7</td>\n",
              "    </tr>\n",
              "    <tr>\n",
              "      <th>4</th>\n",
              "      <td>5</td>\n",
              "      <td>64.0</td>\n",
              "      <td>61.7</td>\n",
              "    </tr>\n",
              "  </tbody>\n",
              "</table>\n",
              "</div>"
            ],
            "text/plain": [
              "   Unnamed: 0  parent  child\n",
              "0           1    70.5   61.7\n",
              "1           2    68.5   61.7\n",
              "2           3    65.5   61.7\n",
              "3           4    64.5   61.7\n",
              "4           5    64.0   61.7"
            ]
          },
          "metadata": {
            "tags": []
          },
          "execution_count": 9
        }
      ]
    },
    {
      "cell_type": "markdown",
      "metadata": {
        "id": "BCqdc0MD-z9e",
        "colab_type": "text"
      },
      "source": [
        "## Linear Regression"
      ]
    },
    {
      "cell_type": "markdown",
      "metadata": {
        "id": "MxT2QfuB-2m1",
        "colab_type": "text"
      },
      "source": [
        "### Modelling"
      ]
    },
    {
      "cell_type": "code",
      "metadata": {
        "id": "k8ElW_I97tGa",
        "colab_type": "code",
        "colab": {
          "base_uri": "https://localhost:8080/",
          "height": 279
        },
        "outputId": "3056d031-4440-4efa-b71c-95d83f66f18b"
      },
      "source": [
        "plt.figure()\n",
        "plt.scatter(\n",
        "    data['parent'],\n",
        "    data['child'],\n",
        "    c='blue'\n",
        ")\n",
        "plt.xlabel(\"parent\")\n",
        "plt.ylabel(\"child\")\n",
        "plt.show()"
      ],
      "execution_count": null,
      "outputs": [
        {
          "output_type": "display_data",
          "data": {
            "image/png": "[encoded data removed]",
            "text/plain": [
              "<Figure size 432x288 with 1 Axes>"
            ]
          },
          "metadata": {
            "tags": [],
            "needs_background": "light"
          }
        }
      ]
    },
    {
      "cell_type": "markdown",
      "metadata": {
        "id": "An4Z_-WG-9LP",
        "colab_type": "text"
      },
      "source": [
        "### Linear Approximation"
      ]
    },
    {
      "cell_type": "code",
      "metadata": {
        "id": "xV3YtuJK9DOa",
        "colab_type": "code",
        "colab": {
          "base_uri": "https://localhost:8080/",
          "height": 34
        },
        "outputId": "e7252f1f-0625-4d78-a1bb-62190f613266"
      },
      "source": [
        "X = data['parent'].values.reshape(-1,1)\n",
        "y = data['child'].values.reshape(-1,1)\n",
        "reg = LinearRegression()\n",
        "reg.fit(X, y)\n",
        "print(\"The linear model is: Y = {:.5} + {:.5}X\".format(reg.intercept_[0], reg.coef_[0][0]))"
      ],
      "execution_count": null,
      "outputs": [
        {
          "output_type": "stream",
          "text": [
            "The linear model is: Y = 23.942 + 0.64629X\n"
          ],
          "name": "stdout"
        }
      ]
    },
    {
      "cell_type": "markdown",
      "metadata": {
        "id": "CsO4EHW-_JAp",
        "colab_type": "text"
      },
      "source": [
        "### Linear Fit"
      ]
    },
    {
      "cell_type": "code",
      "metadata": {
        "id": "k7cajjEp9TZy",
        "colab_type": "code",
        "colab": {
          "base_uri": "https://localhost:8080/",
          "height": 279
        },
        "outputId": "8e3c9949-2be0-4a2e-ca8e-9b8d5d535b90"
      },
      "source": [
        "predictions = reg.predict(X)\n",
        "plt.figure()\n",
        "plt.scatter(\n",
        "    data['parent'],\n",
        "    data['child'],\n",
        "    c='blue'\n",
        ")\n",
        "plt.plot(\n",
        "    data['parent'],\n",
        "    predictions,\n",
        "    c='red',\n",
        "    linewidth=2\n",
        ")\n",
        "plt.xlabel(\"parent\")\n",
        "plt.ylabel(\"child\")\n",
        "plt.show()"
      ],
      "execution_count": null,
      "outputs": [
        {
          "output_type": "display_data",
          "data": {
            "image/png": "[encoded data removed]",
            "text/plain": [
              "<Figure size 432x288 with 1 Axes>"
            ]
          },
          "metadata": {
            "tags": [],
            "needs_background": "light"
          }
        }
      ]
    },
    {
      "cell_type": "markdown",
      "metadata": {
        "id": "S-n5gdA5-lAZ",
        "colab_type": "text"
      },
      "source": [
        "### Relevancy of the Model"
      ]
    },
    {
      "cell_type": "code",
      "metadata": {
        "id": "ufS4JIx-9q9U",
        "colab_type": "code",
        "colab": {
          "base_uri": "https://localhost:8080/",
          "height": 484
        },
        "outputId": "76119bbf-1275-4e08-f6fc-9c16e036d087"
      },
      "source": [
        "X = data['parent']\n",
        "y = data['child']\n",
        "X2 = sm.add_constant(X)\n",
        "est = sm.OLS(y, X2)\n",
        "est2 = est.fit()\n",
        "print(est2.summary())"
      ],
      "execution_count": null,
      "outputs": [
        {
          "output_type": "stream",
          "text": [
            "                            OLS Regression Results                            \n",
            "==============================================================================\n",
            "Dep. Variable:                  child   R-squared:                       0.210\n",
            "Model:                            OLS   Adj. R-squared:                  0.210\n",
            "Method:                 Least Squares   F-statistic:                     246.8\n",
            "Date:                Wed, 15 Jul 2020   Prob (F-statistic):           1.73e-49\n",
            "Time:                        14:53:34   Log-Likelihood:                -2063.6\n",
            "No. Observations:                 928   AIC:                             4131.\n",
            "Df Residuals:                     926   BIC:                             4141.\n",
            "Df Model:                           1                                         \n",
            "Covariance Type:            nonrobust                                         \n",
            "==============================================================================\n",
            "                 coef    std err          t      P>|t|      [0.025      0.975]\n",
            "------------------------------------------------------------------------------\n",
            "const         23.9415      2.811      8.517      0.000      18.425      29.458\n",
            "parent         0.6463      0.041     15.711      0.000       0.566       0.727\n",
            "==============================================================================\n",
            "Omnibus:                       11.057   Durbin-Watson:                   0.046\n",
            "Prob(Omnibus):                  0.004   Jarque-Bera (JB):               10.944\n",
            "Skew:                          -0.241   Prob(JB):                      0.00420\n",
            "Kurtosis:                       2.775   Cond. No.                     2.61e+03\n",
            "==============================================================================\n",
            "\n",
            "Warnings:\n",
            "[1] Standard Errors assume that the covariance matrix of the errors is correctly specified.\n",
            "[2] The condition number is large, 2.61e+03. This might indicate that there are\n",
            "strong multicollinearity or other numerical problems.\n"
          ],
          "name": "stdout"
        }
      ]
    }
  ]
}
